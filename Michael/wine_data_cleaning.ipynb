{
 "cells": [
  {
   "cell_type": "code",
   "execution_count": 1,
   "metadata": {},
   "outputs": [],
   "source": [
    "import os\n",
    "import pandas as pd\n"
   ]
  },
  {
   "cell_type": "code",
   "execution_count": 4,
   "metadata": {},
   "outputs": [
    {
     "data": {
      "text/plain": [
       "'/Users/michaelnaffziger/Desktop/github repos - mnaffziger/Project-4/Michael'"
      ]
     },
     "execution_count": 4,
     "metadata": {},
     "output_type": "execute_result"
    }
   ],
   "source": [
    "cwd = os.getcwd()\n",
    "cwd"
   ]
  },
  {
   "cell_type": "code",
   "execution_count": 12,
   "metadata": {},
   "outputs": [],
   "source": [
    "orig_test_data_path = os.path.join(cwd,'wine_data','test.csv')\n",
    "orig_train_data_path = os.path.join(cwd,'wine_data','train.csv')\n",
    "red_data_path = os.path.join(cwd,'wine_data_2','wineQualityReds.csv')\n",
    "white_data_path = os.path.join(cwd,'wine_data_2','winequality-white.csv')\n"
   ]
  },
  {
   "cell_type": "code",
   "execution_count": 22,
   "metadata": {},
   "outputs": [],
   "source": [
    "orig_test = pd.read_csv(orig_test_data_path)\n",
    "orig_train = pd.read_csv(orig_train_data_path)\n",
    "red_data = pd.read_csv(red_data_path)\n",
    "white_data = pd.read_csv(white_data_path, sep = ';')"
   ]
  },
  {
   "cell_type": "code",
   "execution_count": 30,
   "metadata": {},
   "outputs": [
    {
     "name": "stdout",
     "output_type": "stream",
     "text": [
      "<class 'pandas.core.frame.DataFrame'>\n",
      "RangeIndex: 1372 entries, 0 to 1371\n",
      "Data columns (total 11 columns):\n",
      " #   Column                Non-Null Count  Dtype  \n",
      "---  ------                --------------  -----  \n",
      " 0   fixed acidity         1372 non-null   float64\n",
      " 1   volatile acidity      1372 non-null   float64\n",
      " 2   citric acid           1372 non-null   float64\n",
      " 3   residual sugar        1372 non-null   float64\n",
      " 4   chlorides             1372 non-null   float64\n",
      " 5   free sulfur dioxide   1372 non-null   float64\n",
      " 6   total sulfur dioxide  1372 non-null   float64\n",
      " 7   density               1372 non-null   float64\n",
      " 8   pH                    1372 non-null   float64\n",
      " 9   sulphates             1372 non-null   float64\n",
      " 10  alcohol               1372 non-null   float64\n",
      "dtypes: float64(11)\n",
      "memory usage: 118.0 KB\n"
     ]
    }
   ],
   "source": [
    "orig_test_noID = orig_test.drop(columns='Id')\n",
    "orig_test_noID.info()"
   ]
  },
  {
   "cell_type": "code",
   "execution_count": 31,
   "metadata": {},
   "outputs": [
    {
     "name": "stdout",
     "output_type": "stream",
     "text": [
      "<class 'pandas.core.frame.DataFrame'>\n",
      "RangeIndex: 2056 entries, 0 to 2055\n",
      "Data columns (total 12 columns):\n",
      " #   Column                Non-Null Count  Dtype  \n",
      "---  ------                --------------  -----  \n",
      " 0   fixed acidity         2056 non-null   float64\n",
      " 1   volatile acidity      2056 non-null   float64\n",
      " 2   citric acid           2056 non-null   float64\n",
      " 3   residual sugar        2056 non-null   float64\n",
      " 4   chlorides             2056 non-null   float64\n",
      " 5   free sulfur dioxide   2056 non-null   float64\n",
      " 6   total sulfur dioxide  2056 non-null   float64\n",
      " 7   density               2056 non-null   float64\n",
      " 8   pH                    2056 non-null   float64\n",
      " 9   sulphates             2056 non-null   float64\n",
      " 10  alcohol               2056 non-null   float64\n",
      " 11  quality               2056 non-null   int64  \n",
      "dtypes: float64(11), int64(1)\n",
      "memory usage: 192.9 KB\n"
     ]
    }
   ],
   "source": [
    "orig_train_noID = orig_train.drop(columns='Id')\n",
    "orig_train_noID.info()"
   ]
  },
  {
   "cell_type": "code",
   "execution_count": 37,
   "metadata": {},
   "outputs": [
    {
     "name": "stdout",
     "output_type": "stream",
     "text": [
      "<class 'pandas.core.frame.DataFrame'>\n",
      "RangeIndex: 1599 entries, 0 to 1598\n",
      "Data columns (total 12 columns):\n",
      " #   Column                Non-Null Count  Dtype  \n",
      "---  ------                --------------  -----  \n",
      " 0   fixed.acidity         1599 non-null   float64\n",
      " 1   volatile.acidity      1599 non-null   float64\n",
      " 2   citric.acid           1599 non-null   float64\n",
      " 3   residual.sugar        1599 non-null   float64\n",
      " 4   chlorides             1599 non-null   float64\n",
      " 5   free.sulfur.dioxide   1599 non-null   float64\n",
      " 6   total.sulfur.dioxide  1599 non-null   float64\n",
      " 7   density               1599 non-null   float64\n",
      " 8   pH                    1599 non-null   float64\n",
      " 9   sulphates             1599 non-null   float64\n",
      " 10  alcohol               1599 non-null   float64\n",
      " 11  quality               1599 non-null   int64  \n",
      "dtypes: float64(11), int64(1)\n",
      "memory usage: 150.0 KB\n"
     ]
    }
   ],
   "source": [
    "red_data_noID = red_data.drop(columns='Unnamed: 0')\n",
    "red_data_noID.info()"
   ]
  },
  {
   "cell_type": "code",
   "execution_count": 39,
   "metadata": {},
   "outputs": [
    {
     "name": "stdout",
     "output_type": "stream",
     "text": [
      "<class 'pandas.core.frame.DataFrame'>\n",
      "RangeIndex: 4898 entries, 0 to 4897\n",
      "Data columns (total 12 columns):\n",
      " #   Column                Non-Null Count  Dtype  \n",
      "---  ------                --------------  -----  \n",
      " 0   fixed acidity         4898 non-null   float64\n",
      " 1   volatile acidity      4898 non-null   float64\n",
      " 2   citric acid           4898 non-null   float64\n",
      " 3   residual sugar        4898 non-null   float64\n",
      " 4   chlorides             4898 non-null   float64\n",
      " 5   free sulfur dioxide   4898 non-null   float64\n",
      " 6   total sulfur dioxide  4898 non-null   float64\n",
      " 7   density               4898 non-null   float64\n",
      " 8   pH                    4898 non-null   float64\n",
      " 9   sulphates             4898 non-null   float64\n",
      " 10  alcohol               4898 non-null   float64\n",
      " 11  quality               4898 non-null   int64  \n",
      "dtypes: float64(11), int64(1)\n",
      "memory usage: 459.3 KB\n"
     ]
    }
   ],
   "source": [
    "white_data_noID = white_data.copy()\n",
    "white_data_noID.info()"
   ]
  },
  {
   "cell_type": "code",
   "execution_count": null,
   "metadata": {},
   "outputs": [],
   "source": [
    "red_white_data = pd.concat[]"
   ]
  }
 ],
 "metadata": {
  "kernelspec": {
   "display_name": "dev",
   "language": "python",
   "name": "python3"
  },
  "language_info": {
   "codemirror_mode": {
    "name": "ipython",
    "version": 3
   },
   "file_extension": ".py",
   "mimetype": "text/x-python",
   "name": "python",
   "nbconvert_exporter": "python",
   "pygments_lexer": "ipython3",
   "version": "3.10.11"
  },
  "orig_nbformat": 4
 },
 "nbformat": 4,
 "nbformat_minor": 2
}
