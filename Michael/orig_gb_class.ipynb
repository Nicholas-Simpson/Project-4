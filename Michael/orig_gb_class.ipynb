{
 "cells": [
  {
   "cell_type": "markdown",
   "metadata": {},
   "source": [
    "# Gradient Boosting Classifier Model\n",
    "---\n",
    "The model in this notebook was strongly influenced by Natural Chan.  The following gradient boosted classifier will be used in an ordinal regression dataset."
   ]
  },
  {
   "cell_type": "code",
   "execution_count": 20,
   "metadata": {},
   "outputs": [],
   "source": [
    "import os\n",
    "import pandas as pd\n",
    "import numpy as np\n",
    "import matplotlib.pyplot as plt\n",
    "from sklearn.datasets import make_classification\n",
    "from sklearn.model_selection import train_test_split, GridSearchCV\n",
    "from sklearn.ensemble import GradientBoostingClassifier\n",
    "from sklearn.metrics import accuracy_score, f1_score, precision_score, recall_score, confusion_matrix, classification_report"
   ]
  },
  {
   "cell_type": "code",
   "execution_count": 2,
   "metadata": {},
   "outputs": [],
   "source": [
    "# Save the following code for later...will remove upon final revision\n",
    "\n",
    "# kappa_scorer = make_scorer(cohen_kappa_score, weights='quadratic') \n",
    "# grid_search = GridSearchCV(xgb, param_grid, cv=5, verbose = 3, scoring=kappa_scorer)"
   ]
  },
  {
   "cell_type": "code",
   "execution_count": 3,
   "metadata": {},
   "outputs": [],
   "source": [
    "# ID feature is already dropped from cleaning notebook\n",
    "# Define the paths for all source files\n",
    "cwd = os.getcwd()\n",
    "orig_test_data_path = os.path.join(cwd,'wine_data','test.csv')\n",
    "orig_train_data_path = os.path.join(cwd,'wine_data','train.csv')\n",
    "\n",
    "# Open all source files as a pd dataframe\n",
    "orig_test = pd.read_csv('https://project4-wine-quality-2023.s3.us-west-2.amazonaws.com/test.csv')\n",
    "orig_train = pd.read_csv('https://project4-wine-quality-2023.s3.us-west-2.amazonaws.com/train.csv')\n",
    "red_data = pd.read_csv('red_data_noID.csv')\n",
    "white_data = pd.read_csv('white_data_noID.csv')\n",
    "red_white_data = pd.read_csv('red_white_data_noID.csv')\n",
    "trainable_data = pd.read_csv('trainable_data_noID.csv')\n",
    "\n",
    "# Drop 'ID' columns\n",
    "orig_test = orig_test.drop(columns='Id')\n",
    "orig_train = orig_train.drop(columns='Id')"
   ]
  },
  {
   "cell_type": "code",
   "execution_count": 4,
   "metadata": {},
   "outputs": [
    {
     "data": {
      "text/plain": [
       "Index(['fixed acidity', 'volatile acidity', 'citric acid', 'residual sugar',\n",
       "       'chlorides', 'free sulfur dioxide', 'total sulfur dioxide', 'density',\n",
       "       'pH', 'sulphates', 'alcohol', 'quality'],\n",
       "      dtype='object')"
      ]
     },
     "execution_count": 4,
     "metadata": {},
     "output_type": "execute_result"
    }
   ],
   "source": [
    "orig_train.columns"
   ]
  },
  {
   "cell_type": "code",
   "execution_count": 6,
   "metadata": {},
   "outputs": [],
   "source": [
    "# Split the data into training and testing sets\n",
    "X_train = orig_train.drop('quality', axis=1)\n",
    "y_train = orig_train['quality'].copy()\n",
    "X_test = orig_test.copy()\n",
    "# y_test -= 3\n",
    "X_train, X_val, y_train, y_val = train_test_split(X_train, \n",
    "                                                  y_train, \n",
    "                                                  test_size = 0.2, \n",
    "                                                  random_state = 42) #because it is the answer :)"
   ]
  },
  {
   "cell_type": "code",
   "execution_count": 7,
   "metadata": {},
   "outputs": [
    {
     "name": "stdout",
     "output_type": "stream",
     "text": [
      "Fitting 5 folds for each of 27 candidates, totalling 135 fits\n",
      "[CV 1/5] END learning_rate=0.01, max_depth=3, n_estimators=50;, score=0.556 total time=   1.0s\n",
      "[CV 2/5] END learning_rate=0.01, max_depth=3, n_estimators=50;, score=0.578 total time=   0.8s\n",
      "[CV 3/5] END learning_rate=0.01, max_depth=3, n_estimators=50;, score=0.596 total time=   0.8s\n",
      "[CV 4/5] END learning_rate=0.01, max_depth=3, n_estimators=50;, score=0.565 total time=   0.8s\n",
      "[CV 5/5] END learning_rate=0.01, max_depth=3, n_estimators=50;, score=0.588 total time=   0.8s\n",
      "[CV 1/5] END learning_rate=0.01, max_depth=3, n_estimators=100;, score=0.568 total time=   1.6s\n",
      "[CV 2/5] END learning_rate=0.01, max_depth=3, n_estimators=100;, score=0.587 total time=   1.7s\n",
      "[CV 3/5] END learning_rate=0.01, max_depth=3, n_estimators=100;, score=0.611 total time=   1.7s\n",
      "[CV 4/5] END learning_rate=0.01, max_depth=3, n_estimators=100;, score=0.574 total time=   1.7s\n",
      "[CV 5/5] END learning_rate=0.01, max_depth=3, n_estimators=100;, score=0.591 total time=   1.7s\n",
      "[CV 1/5] END learning_rate=0.01, max_depth=3, n_estimators=200;, score=0.556 total time=   3.3s\n",
      "[CV 2/5] END learning_rate=0.01, max_depth=3, n_estimators=200;, score=0.574 total time=   3.5s\n",
      "[CV 3/5] END learning_rate=0.01, max_depth=3, n_estimators=200;, score=0.614 total time=   3.4s\n",
      "[CV 4/5] END learning_rate=0.01, max_depth=3, n_estimators=200;, score=0.599 total time=   3.4s\n",
      "[CV 5/5] END learning_rate=0.01, max_depth=3, n_estimators=200;, score=0.598 total time=   3.3s\n",
      "[CV 1/5] END learning_rate=0.01, max_depth=5, n_estimators=50;, score=0.587 total time=   1.4s\n",
      "[CV 2/5] END learning_rate=0.01, max_depth=5, n_estimators=50;, score=0.584 total time=   1.4s\n",
      "[CV 3/5] END learning_rate=0.01, max_depth=5, n_estimators=50;, score=0.587 total time=   1.4s\n",
      "[CV 4/5] END learning_rate=0.01, max_depth=5, n_estimators=50;, score=0.578 total time=   1.4s\n",
      "[CV 5/5] END learning_rate=0.01, max_depth=5, n_estimators=50;, score=0.579 total time=   1.4s\n",
      "[CV 1/5] END learning_rate=0.01, max_depth=5, n_estimators=100;, score=0.565 total time=   2.7s\n",
      "[CV 2/5] END learning_rate=0.01, max_depth=5, n_estimators=100;, score=0.584 total time=   2.8s\n",
      "[CV 3/5] END learning_rate=0.01, max_depth=5, n_estimators=100;, score=0.596 total time=   2.8s\n",
      "[CV 4/5] END learning_rate=0.01, max_depth=5, n_estimators=100;, score=0.568 total time=   2.8s\n",
      "[CV 5/5] END learning_rate=0.01, max_depth=5, n_estimators=100;, score=0.610 total time=   2.8s\n",
      "[CV 1/5] END learning_rate=0.01, max_depth=5, n_estimators=200;, score=0.541 total time=   6.0s\n",
      "[CV 2/5] END learning_rate=0.01, max_depth=5, n_estimators=200;, score=0.556 total time=   6.0s\n",
      "[CV 3/5] END learning_rate=0.01, max_depth=5, n_estimators=200;, score=0.602 total time=   5.6s\n",
      "[CV 4/5] END learning_rate=0.01, max_depth=5, n_estimators=200;, score=0.578 total time=   5.6s\n",
      "[CV 5/5] END learning_rate=0.01, max_depth=5, n_estimators=200;, score=0.582 total time=   5.6s\n",
      "[CV 1/5] END learning_rate=0.01, max_depth=7, n_estimators=50;, score=0.571 total time=   2.2s\n",
      "[CV 2/5] END learning_rate=0.01, max_depth=7, n_estimators=50;, score=0.544 total time=   2.2s\n",
      "[CV 3/5] END learning_rate=0.01, max_depth=7, n_estimators=50;, score=0.593 total time=   2.2s\n",
      "[CV 4/5] END learning_rate=0.01, max_depth=7, n_estimators=50;, score=0.532 total time=   2.2s\n",
      "[CV 5/5] END learning_rate=0.01, max_depth=7, n_estimators=50;, score=0.585 total time=   2.2s\n",
      "[CV 1/5] END learning_rate=0.01, max_depth=7, n_estimators=100;, score=0.581 total time=   4.3s\n",
      "[CV 2/5] END learning_rate=0.01, max_depth=7, n_estimators=100;, score=0.544 total time=   4.4s\n",
      "[CV 3/5] END learning_rate=0.01, max_depth=7, n_estimators=100;, score=0.590 total time=   4.7s\n",
      "[CV 4/5] END learning_rate=0.01, max_depth=7, n_estimators=100;, score=0.550 total time=   4.6s\n",
      "[CV 5/5] END learning_rate=0.01, max_depth=7, n_estimators=100;, score=0.570 total time=   4.5s\n",
      "[CV 1/5] END learning_rate=0.01, max_depth=7, n_estimators=200;, score=0.553 total time=   8.7s\n",
      "[CV 2/5] END learning_rate=0.01, max_depth=7, n_estimators=200;, score=0.541 total time=   8.7s\n",
      "[CV 3/5] END learning_rate=0.01, max_depth=7, n_estimators=200;, score=0.587 total time=   8.6s\n",
      "[CV 4/5] END learning_rate=0.01, max_depth=7, n_estimators=200;, score=0.562 total time=   8.8s\n",
      "[CV 5/5] END learning_rate=0.01, max_depth=7, n_estimators=200;, score=0.585 total time=   8.8s\n",
      "[CV 1/5] END learning_rate=0.1, max_depth=3, n_estimators=50;, score=0.565 total time=   0.9s\n",
      "[CV 2/5] END learning_rate=0.1, max_depth=3, n_estimators=50;, score=0.568 total time=   0.8s\n",
      "[CV 3/5] END learning_rate=0.1, max_depth=3, n_estimators=50;, score=0.608 total time=   0.8s\n",
      "[CV 4/5] END learning_rate=0.1, max_depth=3, n_estimators=50;, score=0.599 total time=   0.8s\n",
      "[CV 5/5] END learning_rate=0.1, max_depth=3, n_estimators=50;, score=0.579 total time=   0.9s\n",
      "[CV 1/5] END learning_rate=0.1, max_depth=3, n_estimators=100;, score=0.571 total time=   1.7s\n",
      "[CV 2/5] END learning_rate=0.1, max_depth=3, n_estimators=100;, score=0.544 total time=   1.6s\n",
      "[CV 3/5] END learning_rate=0.1, max_depth=3, n_estimators=100;, score=0.596 total time=   1.7s\n",
      "[CV 4/5] END learning_rate=0.1, max_depth=3, n_estimators=100;, score=0.574 total time=   1.7s\n",
      "[CV 5/5] END learning_rate=0.1, max_depth=3, n_estimators=100;, score=0.579 total time=   1.8s\n",
      "[CV 1/5] END learning_rate=0.1, max_depth=3, n_estimators=200;, score=0.565 total time=   3.3s\n",
      "[CV 2/5] END learning_rate=0.1, max_depth=3, n_estimators=200;, score=0.535 total time=   3.3s\n",
      "[CV 3/5] END learning_rate=0.1, max_depth=3, n_estimators=200;, score=0.587 total time=   3.3s\n",
      "[CV 4/5] END learning_rate=0.1, max_depth=3, n_estimators=200;, score=0.553 total time=   3.4s\n",
      "[CV 5/5] END learning_rate=0.1, max_depth=3, n_estimators=200;, score=0.585 total time=   3.3s\n",
      "[CV 1/5] END learning_rate=0.1, max_depth=5, n_estimators=50;, score=0.535 total time=   1.4s\n",
      "[CV 2/5] END learning_rate=0.1, max_depth=5, n_estimators=50;, score=0.556 total time=   1.5s\n",
      "[CV 3/5] END learning_rate=0.1, max_depth=5, n_estimators=50;, score=0.578 total time=   1.5s\n",
      "[CV 4/5] END learning_rate=0.1, max_depth=5, n_estimators=50;, score=0.596 total time=   1.5s\n",
      "[CV 5/5] END learning_rate=0.1, max_depth=5, n_estimators=50;, score=0.595 total time=   1.5s\n",
      "[CV 1/5] END learning_rate=0.1, max_depth=5, n_estimators=100;, score=0.559 total time=   2.8s\n",
      "[CV 2/5] END learning_rate=0.1, max_depth=5, n_estimators=100;, score=0.535 total time=   2.9s\n",
      "[CV 3/5] END learning_rate=0.1, max_depth=5, n_estimators=100;, score=0.584 total time=   2.7s\n",
      "[CV 4/5] END learning_rate=0.1, max_depth=5, n_estimators=100;, score=0.590 total time=   2.8s\n",
      "[CV 5/5] END learning_rate=0.1, max_depth=5, n_estimators=100;, score=0.567 total time=   2.8s\n",
      "[CV 1/5] END learning_rate=0.1, max_depth=5, n_estimators=200;, score=0.550 total time=   5.4s\n",
      "[CV 2/5] END learning_rate=0.1, max_depth=5, n_estimators=200;, score=0.520 total time=   5.4s\n",
      "[CV 3/5] END learning_rate=0.1, max_depth=5, n_estimators=200;, score=0.584 total time=   5.4s\n",
      "[CV 4/5] END learning_rate=0.1, max_depth=5, n_estimators=200;, score=0.581 total time=   5.5s\n",
      "[CV 5/5] END learning_rate=0.1, max_depth=5, n_estimators=200;, score=0.595 total time=   5.5s\n",
      "[CV 1/5] END learning_rate=0.1, max_depth=7, n_estimators=50;, score=0.550 total time=   2.2s\n",
      "[CV 2/5] END learning_rate=0.1, max_depth=7, n_estimators=50;, score=0.541 total time=   2.2s\n",
      "[CV 3/5] END learning_rate=0.1, max_depth=7, n_estimators=50;, score=0.578 total time=   2.2s\n",
      "[CV 4/5] END learning_rate=0.1, max_depth=7, n_estimators=50;, score=0.559 total time=   2.2s\n",
      "[CV 5/5] END learning_rate=0.1, max_depth=7, n_estimators=50;, score=0.549 total time=   2.2s\n",
      "[CV 1/5] END learning_rate=0.1, max_depth=7, n_estimators=100;, score=0.541 total time=   4.4s\n",
      "[CV 2/5] END learning_rate=0.1, max_depth=7, n_estimators=100;, score=0.544 total time=   4.4s\n",
      "[CV 3/5] END learning_rate=0.1, max_depth=7, n_estimators=100;, score=0.581 total time=   4.4s\n",
      "[CV 4/5] END learning_rate=0.1, max_depth=7, n_estimators=100;, score=0.578 total time=   4.6s\n",
      "[CV 5/5] END learning_rate=0.1, max_depth=7, n_estimators=100;, score=0.570 total time=   4.4s\n",
      "[CV 1/5] END learning_rate=0.1, max_depth=7, n_estimators=200;, score=0.565 total time=   8.6s\n",
      "[CV 2/5] END learning_rate=0.1, max_depth=7, n_estimators=200;, score=0.538 total time=   8.4s\n",
      "[CV 3/5] END learning_rate=0.1, max_depth=7, n_estimators=200;, score=0.581 total time=   8.3s\n",
      "[CV 4/5] END learning_rate=0.1, max_depth=7, n_estimators=200;, score=0.562 total time=   8.3s\n",
      "[CV 5/5] END learning_rate=0.1, max_depth=7, n_estimators=200;, score=0.595 total time=   8.5s\n",
      "[CV 1/5] END learning_rate=0.2, max_depth=3, n_estimators=50;, score=0.541 total time=   0.8s\n",
      "[CV 2/5] END learning_rate=0.2, max_depth=3, n_estimators=50;, score=0.535 total time=   0.8s\n",
      "[CV 3/5] END learning_rate=0.2, max_depth=3, n_estimators=50;, score=0.593 total time=   0.8s\n",
      "[CV 4/5] END learning_rate=0.2, max_depth=3, n_estimators=50;, score=0.578 total time=   0.8s\n",
      "[CV 5/5] END learning_rate=0.2, max_depth=3, n_estimators=50;, score=0.543 total time=   0.8s\n",
      "[CV 1/5] END learning_rate=0.2, max_depth=3, n_estimators=100;, score=0.547 total time=   1.6s\n",
      "[CV 2/5] END learning_rate=0.2, max_depth=3, n_estimators=100;, score=0.520 total time=   1.6s\n",
      "[CV 3/5] END learning_rate=0.2, max_depth=3, n_estimators=100;, score=0.602 total time=   1.6s\n",
      "[CV 4/5] END learning_rate=0.2, max_depth=3, n_estimators=100;, score=0.565 total time=   1.6s\n",
      "[CV 5/5] END learning_rate=0.2, max_depth=3, n_estimators=100;, score=0.555 total time=   1.6s\n",
      "[CV 1/5] END learning_rate=0.2, max_depth=3, n_estimators=200;, score=0.550 total time=   3.2s\n",
      "[CV 2/5] END learning_rate=0.2, max_depth=3, n_estimators=200;, score=0.523 total time=   3.2s\n",
      "[CV 3/5] END learning_rate=0.2, max_depth=3, n_estimators=200;, score=0.590 total time=   3.2s\n",
      "[CV 4/5] END learning_rate=0.2, max_depth=3, n_estimators=200;, score=0.541 total time=   3.2s\n",
      "[CV 5/5] END learning_rate=0.2, max_depth=3, n_estimators=200;, score=0.558 total time=   3.2s\n",
      "[CV 1/5] END learning_rate=0.2, max_depth=5, n_estimators=50;, score=0.529 total time=   1.4s\n",
      "[CV 2/5] END learning_rate=0.2, max_depth=5, n_estimators=50;, score=0.541 total time=   1.4s\n",
      "[CV 3/5] END learning_rate=0.2, max_depth=5, n_estimators=50;, score=0.581 total time=   1.4s\n",
      "[CV 4/5] END learning_rate=0.2, max_depth=5, n_estimators=50;, score=0.584 total time=   1.4s\n",
      "[CV 5/5] END learning_rate=0.2, max_depth=5, n_estimators=50;, score=0.588 total time=   1.3s\n",
      "[CV 1/5] END learning_rate=0.2, max_depth=5, n_estimators=100;, score=0.526 total time=   2.7s\n",
      "[CV 2/5] END learning_rate=0.2, max_depth=5, n_estimators=100;, score=0.538 total time=   2.7s\n",
      "[CV 3/5] END learning_rate=0.2, max_depth=5, n_estimators=100;, score=0.593 total time=   2.7s\n",
      "[CV 4/5] END learning_rate=0.2, max_depth=5, n_estimators=100;, score=0.574 total time=   2.7s\n",
      "[CV 5/5] END learning_rate=0.2, max_depth=5, n_estimators=100;, score=0.573 total time=   2.6s\n",
      "[CV 1/5] END learning_rate=0.2, max_depth=5, n_estimators=200;, score=0.544 total time=   5.0s\n",
      "[CV 2/5] END learning_rate=0.2, max_depth=5, n_estimators=200;, score=0.538 total time=   5.0s\n",
      "[CV 3/5] END learning_rate=0.2, max_depth=5, n_estimators=200;, score=0.574 total time=   5.0s\n",
      "[CV 4/5] END learning_rate=0.2, max_depth=5, n_estimators=200;, score=0.544 total time=   4.9s\n",
      "[CV 5/5] END learning_rate=0.2, max_depth=5, n_estimators=200;, score=0.585 total time=   5.1s\n",
      "[CV 1/5] END learning_rate=0.2, max_depth=7, n_estimators=50;, score=0.547 total time=   2.2s\n",
      "[CV 2/5] END learning_rate=0.2, max_depth=7, n_estimators=50;, score=0.544 total time=   2.2s\n",
      "[CV 3/5] END learning_rate=0.2, max_depth=7, n_estimators=50;, score=0.574 total time=   2.3s\n",
      "[CV 4/5] END learning_rate=0.2, max_depth=7, n_estimators=50;, score=0.559 total time=   2.3s\n",
      "[CV 5/5] END learning_rate=0.2, max_depth=7, n_estimators=50;, score=0.585 total time=   2.3s\n",
      "[CV 1/5] END learning_rate=0.2, max_depth=7, n_estimators=100;, score=0.535 total time=   4.1s\n",
      "[CV 2/5] END learning_rate=0.2, max_depth=7, n_estimators=100;, score=0.532 total time=   4.2s\n",
      "[CV 3/5] END learning_rate=0.2, max_depth=7, n_estimators=100;, score=0.578 total time=   4.0s\n",
      "[CV 4/5] END learning_rate=0.2, max_depth=7, n_estimators=100;, score=0.562 total time=   4.1s\n",
      "[CV 5/5] END learning_rate=0.2, max_depth=7, n_estimators=100;, score=0.595 total time=   4.2s\n",
      "[CV 1/5] END learning_rate=0.2, max_depth=7, n_estimators=200;, score=0.535 total time=   6.9s\n",
      "[CV 2/5] END learning_rate=0.2, max_depth=7, n_estimators=200;, score=0.547 total time=   6.8s\n",
      "[CV 3/5] END learning_rate=0.2, max_depth=7, n_estimators=200;, score=0.584 total time=   6.9s\n",
      "[CV 4/5] END learning_rate=0.2, max_depth=7, n_estimators=200;, score=0.562 total time=   6.8s\n",
      "[CV 5/5] END learning_rate=0.2, max_depth=7, n_estimators=200;, score=0.570 total time=   6.9s\n"
     ]
    }
   ],
   "source": [
    "from warnings import filterwarnings\n",
    "filterwarnings('ignore')\n",
    "\n",
    "# Create a Gradient Boosting Regressor\n",
    "model = GradientBoostingClassifier()\n",
    "\n",
    "# Define the hyperparameter grid to search\n",
    "param_grid = {\n",
    "    'n_estimators': [50, 100, 200], # number of weak learning trees\n",
    "    'learning_rate': [0.01, 0.1, 0.2], # control possibility of overfitting.\n",
    "    # Strong interaction with n_estimators: smaller learning rates require more n_estimators\n",
    "    'max_depth': [3, 5, 7] #  size of each tree\n",
    "}\n",
    "\n",
    "# Perform grid search with cross-validation\n",
    "grid_search = GridSearchCV(model, param_grid, cv=5, verbose=3)\n",
    "grid_search.fit(X_train, y_train)\n",
    "\n",
    "# Get the best model from grid search\n",
    "best_gb = grid_search.best_estimator_\n",
    "\n",
    "# Make predictions on the test data using the best model\n",
    "y_pred = best_gb.predict(X_val)\n",
    "\n"
   ]
  },
  {
   "cell_type": "code",
   "execution_count": 9,
   "metadata": {},
   "outputs": [
    {
     "name": "stdout",
     "output_type": "stream",
     "text": [
      "Best Estimators: 200\n",
      "Best Learning Rate: 0.01\n",
      "Best Max Depth: 3\n",
      "Accuracy: 0.59\n",
      "F1: 0.57\n",
      "Precision: 0.59\n",
      "Recall: 0.59\n"
     ]
    }
   ],
   "source": [
    "# Calculate metrics\n",
    "accuracy = accuracy_score(y_val, y_pred)\n",
    "# the following metrics need to include the average type since the validation is ordinal and not binary\n",
    "f1 = f1_score(y_val, y_pred, average= 'weighted')\n",
    "precision = precision_score(y_val, y_pred, average= 'weighted')\n",
    "recall = recall_score(y_val, y_pred, average= 'weighted')\n",
    "\n",
    "print(f\"Best Estimators: {best_gb.n_estimators}\")\n",
    "print(f\"Best Learning Rate: {best_gb.learning_rate}\")\n",
    "print(f\"Best Max Depth: {best_gb.max_depth}\")\n",
    "print(f\"Accuracy: {accuracy:.2f}\")\n",
    "print(f\"F1: {f1:.2f}\")\n",
    "print(f\"Precision: {precision:.2f}\")\n",
    "print(f\"Recall: {recall:.2f}\")"
   ]
  },
  {
   "cell_type": "code",
   "execution_count": 10,
   "metadata": {},
   "outputs": [
    {
     "name": "stdout",
     "output_type": "stream",
     "text": [
      "Fitting 5 folds for each of 27 candidates, totalling 135 fits\n",
      "[CV 1/5] END learning_rate=0.01, max_depth=3, n_estimators=100;, score=0.568 total time=   1.7s\n",
      "[CV 2/5] END learning_rate=0.01, max_depth=3, n_estimators=100;, score=0.587 total time=   1.6s\n",
      "[CV 3/5] END learning_rate=0.01, max_depth=3, n_estimators=100;, score=0.611 total time=   1.6s\n",
      "[CV 4/5] END learning_rate=0.01, max_depth=3, n_estimators=100;, score=0.574 total time=   1.7s\n",
      "[CV 5/5] END learning_rate=0.01, max_depth=3, n_estimators=100;, score=0.591 total time=   1.7s\n",
      "[CV 1/5] END learning_rate=0.01, max_depth=3, n_estimators=200;, score=0.556 total time=   3.2s\n",
      "[CV 2/5] END learning_rate=0.01, max_depth=3, n_estimators=200;, score=0.574 total time=   3.3s\n",
      "[CV 3/5] END learning_rate=0.01, max_depth=3, n_estimators=200;, score=0.611 total time=   3.2s\n",
      "[CV 4/5] END learning_rate=0.01, max_depth=3, n_estimators=200;, score=0.599 total time=   3.3s\n",
      "[CV 5/5] END learning_rate=0.01, max_depth=3, n_estimators=200;, score=0.598 total time=   3.4s\n",
      "[CV 1/5] END learning_rate=0.01, max_depth=3, n_estimators=400;, score=0.578 total time=   6.7s\n",
      "[CV 2/5] END learning_rate=0.01, max_depth=3, n_estimators=400;, score=0.568 total time=   6.7s\n",
      "[CV 3/5] END learning_rate=0.01, max_depth=3, n_estimators=400;, score=0.605 total time=   6.8s\n",
      "[CV 4/5] END learning_rate=0.01, max_depth=3, n_estimators=400;, score=0.614 total time=   6.8s\n",
      "[CV 5/5] END learning_rate=0.01, max_depth=3, n_estimators=400;, score=0.579 total time=   6.7s\n",
      "[CV 1/5] END learning_rate=0.01, max_depth=5, n_estimators=100;, score=0.556 total time=   2.8s\n",
      "[CV 2/5] END learning_rate=0.01, max_depth=5, n_estimators=100;, score=0.587 total time=   2.8s\n",
      "[CV 3/5] END learning_rate=0.01, max_depth=5, n_estimators=100;, score=0.593 total time=   2.8s\n",
      "[CV 4/5] END learning_rate=0.01, max_depth=5, n_estimators=100;, score=0.568 total time=   2.8s\n",
      "[CV 5/5] END learning_rate=0.01, max_depth=5, n_estimators=100;, score=0.613 total time=   2.8s\n",
      "[CV 1/5] END learning_rate=0.01, max_depth=5, n_estimators=200;, score=0.538 total time=   5.6s\n",
      "[CV 2/5] END learning_rate=0.01, max_depth=5, n_estimators=200;, score=0.550 total time=   5.6s\n",
      "[CV 3/5] END learning_rate=0.01, max_depth=5, n_estimators=200;, score=0.599 total time=   6.0s\n",
      "[CV 4/5] END learning_rate=0.01, max_depth=5, n_estimators=200;, score=0.581 total time=   5.7s\n",
      "[CV 5/5] END learning_rate=0.01, max_depth=5, n_estimators=200;, score=0.573 total time=   5.8s\n",
      "[CV 1/5] END learning_rate=0.01, max_depth=5, n_estimators=400;, score=0.556 total time=  12.1s\n",
      "[CV 2/5] END learning_rate=0.01, max_depth=5, n_estimators=400;, score=0.562 total time=  11.3s\n",
      "[CV 3/5] END learning_rate=0.01, max_depth=5, n_estimators=400;, score=0.593 total time=  11.0s\n",
      "[CV 4/5] END learning_rate=0.01, max_depth=5, n_estimators=400;, score=0.581 total time=  10.9s\n",
      "[CV 5/5] END learning_rate=0.01, max_depth=5, n_estimators=400;, score=0.579 total time=  11.2s\n",
      "[CV 1/5] END learning_rate=0.01, max_depth=7, n_estimators=100;, score=0.565 total time=   4.3s\n",
      "[CV 2/5] END learning_rate=0.01, max_depth=7, n_estimators=100;, score=0.544 total time=   4.5s\n",
      "[CV 3/5] END learning_rate=0.01, max_depth=7, n_estimators=100;, score=0.596 total time=   4.3s\n",
      "[CV 4/5] END learning_rate=0.01, max_depth=7, n_estimators=100;, score=0.544 total time=   4.4s\n",
      "[CV 5/5] END learning_rate=0.01, max_depth=7, n_estimators=100;, score=0.567 total time=   4.5s\n",
      "[CV 1/5] END learning_rate=0.01, max_depth=7, n_estimators=200;, score=0.556 total time=   8.8s\n",
      "[CV 2/5] END learning_rate=0.01, max_depth=7, n_estimators=200;, score=0.550 total time=   8.9s\n",
      "[CV 3/5] END learning_rate=0.01, max_depth=7, n_estimators=200;, score=0.587 total time=   9.2s\n",
      "[CV 4/5] END learning_rate=0.01, max_depth=7, n_estimators=200;, score=0.581 total time=   9.0s\n",
      "[CV 5/5] END learning_rate=0.01, max_depth=7, n_estimators=200;, score=0.576 total time=   9.2s\n",
      "[CV 1/5] END learning_rate=0.01, max_depth=7, n_estimators=400;, score=0.541 total time=  16.5s\n",
      "[CV 2/5] END learning_rate=0.01, max_depth=7, n_estimators=400;, score=0.532 total time=  16.8s\n",
      "[CV 3/5] END learning_rate=0.01, max_depth=7, n_estimators=400;, score=0.556 total time=  16.5s\n",
      "[CV 4/5] END learning_rate=0.01, max_depth=7, n_estimators=400;, score=0.574 total time=  16.6s\n",
      "[CV 5/5] END learning_rate=0.01, max_depth=7, n_estimators=400;, score=0.576 total time=  17.1s\n",
      "[CV 1/5] END learning_rate=0.1, max_depth=3, n_estimators=100;, score=0.562 total time=   1.6s\n",
      "[CV 2/5] END learning_rate=0.1, max_depth=3, n_estimators=100;, score=0.547 total time=   1.6s\n",
      "[CV 3/5] END learning_rate=0.1, max_depth=3, n_estimators=100;, score=0.596 total time=   1.6s\n",
      "[CV 4/5] END learning_rate=0.1, max_depth=3, n_estimators=100;, score=0.578 total time=   1.6s\n",
      "[CV 5/5] END learning_rate=0.1, max_depth=3, n_estimators=100;, score=0.576 total time=   1.6s\n",
      "[CV 1/5] END learning_rate=0.1, max_depth=3, n_estimators=200;, score=0.550 total time=   3.2s\n",
      "[CV 2/5] END learning_rate=0.1, max_depth=3, n_estimators=200;, score=0.526 total time=   3.2s\n",
      "[CV 3/5] END learning_rate=0.1, max_depth=3, n_estimators=200;, score=0.590 total time=   3.3s\n",
      "[CV 4/5] END learning_rate=0.1, max_depth=3, n_estimators=200;, score=0.553 total time=   3.3s\n",
      "[CV 5/5] END learning_rate=0.1, max_depth=3, n_estimators=200;, score=0.579 total time=   3.2s\n",
      "[CV 1/5] END learning_rate=0.1, max_depth=3, n_estimators=400;, score=0.559 total time=   6.4s\n",
      "[CV 2/5] END learning_rate=0.1, max_depth=3, n_estimators=400;, score=0.526 total time=   6.4s\n",
      "[CV 3/5] END learning_rate=0.1, max_depth=3, n_estimators=400;, score=0.581 total time=   6.5s\n",
      "[CV 4/5] END learning_rate=0.1, max_depth=3, n_estimators=400;, score=0.568 total time=   6.4s\n",
      "[CV 5/5] END learning_rate=0.1, max_depth=3, n_estimators=400;, score=0.576 total time=   6.3s\n",
      "[CV 1/5] END learning_rate=0.1, max_depth=5, n_estimators=100;, score=0.547 total time=   2.6s\n",
      "[CV 2/5] END learning_rate=0.1, max_depth=5, n_estimators=100;, score=0.541 total time=   2.7s\n",
      "[CV 3/5] END learning_rate=0.1, max_depth=5, n_estimators=100;, score=0.587 total time=   2.7s\n",
      "[CV 4/5] END learning_rate=0.1, max_depth=5, n_estimators=100;, score=0.587 total time=   2.7s\n",
      "[CV 5/5] END learning_rate=0.1, max_depth=5, n_estimators=100;, score=0.588 total time=   2.8s\n",
      "[CV 1/5] END learning_rate=0.1, max_depth=5, n_estimators=200;, score=0.550 total time=   5.2s\n",
      "[CV 2/5] END learning_rate=0.1, max_depth=5, n_estimators=200;, score=0.538 total time=   5.4s\n",
      "[CV 3/5] END learning_rate=0.1, max_depth=5, n_estimators=200;, score=0.568 total time=   5.4s\n",
      "[CV 4/5] END learning_rate=0.1, max_depth=5, n_estimators=200;, score=0.562 total time=   5.3s\n",
      "[CV 5/5] END learning_rate=0.1, max_depth=5, n_estimators=200;, score=0.576 total time=   5.3s\n",
      "[CV 1/5] END learning_rate=0.1, max_depth=5, n_estimators=400;, score=0.553 total time=  11.6s\n",
      "[CV 2/5] END learning_rate=0.1, max_depth=5, n_estimators=400;, score=0.532 total time=  10.3s\n",
      "[CV 3/5] END learning_rate=0.1, max_depth=5, n_estimators=400;, score=0.571 total time=  10.1s\n",
      "[CV 4/5] END learning_rate=0.1, max_depth=5, n_estimators=400;, score=0.565 total time=  10.4s\n",
      "[CV 5/5] END learning_rate=0.1, max_depth=5, n_estimators=400;, score=0.567 total time=  10.0s\n",
      "[CV 1/5] END learning_rate=0.1, max_depth=7, n_estimators=100;, score=0.532 total time=   4.3s\n",
      "[CV 2/5] END learning_rate=0.1, max_depth=7, n_estimators=100;, score=0.532 total time=   4.2s\n",
      "[CV 3/5] END learning_rate=0.1, max_depth=7, n_estimators=100;, score=0.581 total time=   4.2s\n",
      "[CV 4/5] END learning_rate=0.1, max_depth=7, n_estimators=100;, score=0.578 total time=   4.3s\n",
      "[CV 5/5] END learning_rate=0.1, max_depth=7, n_estimators=100;, score=0.576 total time=   4.3s\n",
      "[CV 1/5] END learning_rate=0.1, max_depth=7, n_estimators=200;, score=0.538 total time=   8.1s\n",
      "[CV 2/5] END learning_rate=0.1, max_depth=7, n_estimators=200;, score=0.535 total time=   8.1s\n",
      "[CV 3/5] END learning_rate=0.1, max_depth=7, n_estimators=200;, score=0.568 total time=   8.0s\n",
      "[CV 4/5] END learning_rate=0.1, max_depth=7, n_estimators=200;, score=0.584 total time=   8.3s\n",
      "[CV 5/5] END learning_rate=0.1, max_depth=7, n_estimators=200;, score=0.595 total time=   8.2s\n",
      "[CV 1/5] END learning_rate=0.1, max_depth=7, n_estimators=400;, score=0.553 total time=  13.2s\n",
      "[CV 2/5] END learning_rate=0.1, max_depth=7, n_estimators=400;, score=0.541 total time=  13.2s\n",
      "[CV 3/5] END learning_rate=0.1, max_depth=7, n_estimators=400;, score=0.581 total time=  13.3s\n",
      "[CV 4/5] END learning_rate=0.1, max_depth=7, n_estimators=400;, score=0.556 total time=  13.2s\n",
      "[CV 5/5] END learning_rate=0.1, max_depth=7, n_estimators=400;, score=0.591 total time=  14.0s\n",
      "[CV 1/5] END learning_rate=0.2, max_depth=3, n_estimators=100;, score=0.562 total time=   1.8s\n",
      "[CV 2/5] END learning_rate=0.2, max_depth=3, n_estimators=100;, score=0.529 total time=   1.7s\n",
      "[CV 3/5] END learning_rate=0.2, max_depth=3, n_estimators=100;, score=0.605 total time=   1.7s\n",
      "[CV 4/5] END learning_rate=0.2, max_depth=3, n_estimators=100;, score=0.556 total time=   1.7s\n",
      "[CV 5/5] END learning_rate=0.2, max_depth=3, n_estimators=100;, score=0.561 total time=   2.9s\n",
      "[CV 1/5] END learning_rate=0.2, max_depth=3, n_estimators=200;, score=0.535 total time=   3.4s\n",
      "[CV 2/5] END learning_rate=0.2, max_depth=3, n_estimators=200;, score=0.526 total time=   3.5s\n",
      "[CV 3/5] END learning_rate=0.2, max_depth=3, n_estimators=200;, score=0.590 total time=   3.5s\n",
      "[CV 4/5] END learning_rate=0.2, max_depth=3, n_estimators=200;, score=0.541 total time=   3.4s\n",
      "[CV 5/5] END learning_rate=0.2, max_depth=3, n_estimators=200;, score=0.552 total time=   3.4s\n",
      "[CV 1/5] END learning_rate=0.2, max_depth=3, n_estimators=400;, score=0.529 total time=   6.5s\n",
      "[CV 2/5] END learning_rate=0.2, max_depth=3, n_estimators=400;, score=0.538 total time=   6.5s\n",
      "[CV 3/5] END learning_rate=0.2, max_depth=3, n_estimators=400;, score=0.581 total time=   6.3s\n",
      "[CV 4/5] END learning_rate=0.2, max_depth=3, n_estimators=400;, score=0.550 total time=   6.5s\n",
      "[CV 5/5] END learning_rate=0.2, max_depth=3, n_estimators=400;, score=0.549 total time=   6.3s\n",
      "[CV 1/5] END learning_rate=0.2, max_depth=5, n_estimators=100;, score=0.544 total time=   2.7s\n",
      "[CV 2/5] END learning_rate=0.2, max_depth=5, n_estimators=100;, score=0.535 total time=   2.7s\n",
      "[CV 3/5] END learning_rate=0.2, max_depth=5, n_estimators=100;, score=0.581 total time=   2.7s\n",
      "[CV 4/5] END learning_rate=0.2, max_depth=5, n_estimators=100;, score=0.559 total time=   2.9s\n",
      "[CV 5/5] END learning_rate=0.2, max_depth=5, n_estimators=100;, score=0.573 total time=   2.8s\n",
      "[CV 1/5] END learning_rate=0.2, max_depth=5, n_estimators=200;, score=0.559 total time=   5.2s\n",
      "[CV 2/5] END learning_rate=0.2, max_depth=5, n_estimators=200;, score=0.529 total time=   5.2s\n",
      "[CV 3/5] END learning_rate=0.2, max_depth=5, n_estimators=200;, score=0.568 total time=   5.2s\n",
      "[CV 4/5] END learning_rate=0.2, max_depth=5, n_estimators=200;, score=0.556 total time=   5.2s\n",
      "[CV 5/5] END learning_rate=0.2, max_depth=5, n_estimators=200;, score=0.561 total time=   5.2s\n",
      "[CV 1/5] END learning_rate=0.2, max_depth=5, n_estimators=400;, score=0.535 total time=   9.2s\n",
      "[CV 2/5] END learning_rate=0.2, max_depth=5, n_estimators=400;, score=0.550 total time=   9.2s\n",
      "[CV 3/5] END learning_rate=0.2, max_depth=5, n_estimators=400;, score=0.550 total time=   9.2s\n",
      "[CV 4/5] END learning_rate=0.2, max_depth=5, n_estimators=400;, score=0.538 total time=   9.4s\n",
      "[CV 5/5] END learning_rate=0.2, max_depth=5, n_estimators=400;, score=0.546 total time=   9.1s\n",
      "[CV 1/5] END learning_rate=0.2, max_depth=7, n_estimators=100;, score=0.550 total time=   4.3s\n",
      "[CV 2/5] END learning_rate=0.2, max_depth=7, n_estimators=100;, score=0.523 total time=   4.2s\n",
      "[CV 3/5] END learning_rate=0.2, max_depth=7, n_estimators=100;, score=0.571 total time=   4.1s\n",
      "[CV 4/5] END learning_rate=0.2, max_depth=7, n_estimators=100;, score=0.574 total time=   4.4s\n",
      "[CV 5/5] END learning_rate=0.2, max_depth=7, n_estimators=100;, score=0.576 total time=   4.3s\n",
      "[CV 1/5] END learning_rate=0.2, max_depth=7, n_estimators=200;, score=0.514 total time=   6.8s\n",
      "[CV 2/5] END learning_rate=0.2, max_depth=7, n_estimators=200;, score=0.538 total time=   6.9s\n",
      "[CV 3/5] END learning_rate=0.2, max_depth=7, n_estimators=200;, score=0.578 total time=   6.9s\n",
      "[CV 4/5] END learning_rate=0.2, max_depth=7, n_estimators=200;, score=0.553 total time=   8.0s\n",
      "[CV 5/5] END learning_rate=0.2, max_depth=7, n_estimators=200;, score=0.579 total time=   7.0s\n",
      "[CV 1/5] END learning_rate=0.2, max_depth=7, n_estimators=400;, score=0.535 total time=   9.0s\n",
      "[CV 2/5] END learning_rate=0.2, max_depth=7, n_estimators=400;, score=0.520 total time=   8.8s\n",
      "[CV 3/5] END learning_rate=0.2, max_depth=7, n_estimators=400;, score=0.584 total time=   9.1s\n",
      "[CV 4/5] END learning_rate=0.2, max_depth=7, n_estimators=400;, score=0.556 total time=   9.0s\n",
      "[CV 5/5] END learning_rate=0.2, max_depth=7, n_estimators=400;, score=0.573 total time=   8.9s\n"
     ]
    }
   ],
   "source": [
    "# Change the number of weak learner trees\n",
    "# Create a Gradient Boosting Regressor\n",
    "model_2 = GradientBoostingClassifier()\n",
    "\n",
    "# Define the hyperparameter grid to search\n",
    "param_grid_2 = {\n",
    "    'n_estimators': [100, 200, 400],\n",
    "    'learning_rate': [0.01, 0.1, 0.2],\n",
    "    'max_depth': [3, 5, 7]\n",
    "}\n",
    "\n",
    "# Perform grid search with cross-validation\n",
    "grid_search_2 = GridSearchCV(model_2, param_grid_2, cv=5, verbose=3)\n",
    "grid_search_2.fit(X_train, y_train)\n",
    "\n",
    "# Get the best model from grid search\n",
    "best_gb_2 = grid_search_2.best_estimator_\n",
    "\n",
    "# Make predictions on the test data using the best model\n",
    "y_pred_2 = best_gb_2.predict(X_val)"
   ]
  },
  {
   "cell_type": "code",
   "execution_count": 11,
   "metadata": {},
   "outputs": [
    {
     "name": "stdout",
     "output_type": "stream",
     "text": [
      "Best Estimators: 400\n",
      "Best Learning Rate: 0.01\n",
      "Best Max Depth: 3\n",
      "Accuracy: 0.59\n",
      "F1: 0.57\n",
      "Precision: 0.58\n",
      "Recall: 0.59\n"
     ]
    }
   ],
   "source": [
    "# Calculate metrics\n",
    "accuracy_2 = accuracy_score(y_val, y_pred_2)\n",
    "# the following metrics need to include the average type since the validation is ordinal and not binary\n",
    "f1_2 = f1_score(y_val, y_pred_2, average= 'weighted')\n",
    "precision_2 = precision_score(y_val, y_pred_2, average= 'weighted')\n",
    "recall_2 = recall_score(y_val, y_pred_2, average= 'weighted')\n",
    "\n",
    "print(f\"Best Estimators: {best_gb_2.n_estimators}\")\n",
    "print(f\"Best Learning Rate: {best_gb_2.learning_rate}\")\n",
    "print(f\"Best Max Depth: {best_gb_2.max_depth}\")\n",
    "print(f\"Accuracy: {accuracy_2:.2f}\")\n",
    "print(f\"F1: {f1_2:.2f}\")\n",
    "print(f\"Precision: {precision_2:.2f}\")\n",
    "print(f\"Recall: {recall_2:.2f}\")"
   ]
  },
  {
   "cell_type": "code",
   "execution_count": 1,
   "metadata": {},
   "outputs": [
    {
     "ename": "NameError",
     "evalue": "name 'grid_search' is not defined",
     "output_type": "error",
     "traceback": [
      "\u001b[0;31m---------------------------------------------------------------------------\u001b[0m",
      "\u001b[0;31mNameError\u001b[0m                                 Traceback (most recent call last)",
      "Cell \u001b[0;32mIn[1], line 1\u001b[0m\n\u001b[0;32m----> 1\u001b[0m best_hp \u001b[39m=\u001b[39m grid_search\u001b[39m.\u001b[39mbest_params_\n\u001b[1;32m      2\u001b[0m best_hp\n\u001b[1;32m      3\u001b[0m \u001b[39mprint\u001b[39m(\u001b[39m\"\u001b[39m\u001b[39m---------------------------------\u001b[39m\u001b[39m\"\u001b[39m)\n",
      "\u001b[0;31mNameError\u001b[0m: name 'grid_search' is not defined"
     ]
    }
   ],
   "source": [
    "best_hp = grid_search.best_params_\n",
    "best_hp\n",
    "print(\"---------------------------------\")\n",
    "print(\"Confusion Matrix:\")\n",
    "confusion_matrix(y_val, y_pred)\n",
    "print(\"---------------------------------\")\n",
    "print(classification_report(y_val,y_pred))"
   ]
  },
  {
   "cell_type": "code",
   "execution_count": 17,
   "metadata": {},
   "outputs": [
    {
     "data": {
      "text/plain": [
       "{'learning_rate': 0.01, 'max_depth': 3, 'n_estimators': 400}"
      ]
     },
     "execution_count": 17,
     "metadata": {},
     "output_type": "execute_result"
    }
   ],
   "source": [
    "best_hp = grid_search.best_params_\n",
    "print(f\"Best hp for 1st model: {best_hp}\")\n",
    "print(\"---------------------------------\")\n",
    "print(\"Confusion Matrix:\")\n",
    "display(confusion_matrix(y_val, y_pred))\n",
    "print(\"---------------------------------\")\n",
    "print(classification_report(y_val,y_pred))"
   ]
  },
  {
   "cell_type": "code",
   "execution_count": 18,
   "metadata": {},
   "outputs": [
    {
     "data": {
      "text/plain": [
       "array([[  0,   0,   1,   1,   0,   0],\n",
       "       [  0,   1,   4,   3,   0,   0],\n",
       "       [  0,   0, 125,  43,   1,   0],\n",
       "       [  0,   0,  51,  95,  12,   0],\n",
       "       [  0,   0,   8,  39,  22,   0],\n",
       "       [  0,   0,   3,   2,   1,   0]])"
      ]
     },
     "execution_count": 18,
     "metadata": {},
     "output_type": "execute_result"
    }
   ],
   "source": [
    "best_hp_2 = grid_search_2.best_params_\n",
    "print(f\"Best hp for 1st model: {best_hp_2}\")\n",
    "print(\"---------------------------------\")\n",
    "print(\"Confusion Matrix:\")\n",
    "display(confusion_matrix(y_val, y_pred_2))\n",
    "print(\"---------------------------------\")\n",
    "print(classification_report(y_val,y_pred_2))"
   ]
  },
  {
   "cell_type": "code",
   "execution_count": 19,
   "metadata": {},
   "outputs": [
    {
     "data": {
      "text/plain": [
       "array([[  0,   0,   1,   1,   0,   0],\n",
       "       [  0,   1,   4,   2,   1,   0],\n",
       "       [  0,   0, 123,  43,   2,   1],\n",
       "       [  0,   0,  50,  94,  14,   0],\n",
       "       [  0,   0,   8,  37,  24,   0],\n",
       "       [  0,   0,   2,   3,   1,   0]])"
      ]
     },
     "execution_count": 19,
     "metadata": {},
     "output_type": "execute_result"
    }
   ],
   "source": [
    "confusion_matrix(y_val, y_pred_2)"
   ]
  },
  {
   "cell_type": "code",
   "execution_count": 21,
   "metadata": {},
   "outputs": [
    {
     "name": "stdout",
     "output_type": "stream",
     "text": [
      "              precision    recall  f1-score   support\n",
      "\n",
      "           3       0.00      0.00      0.00         2\n",
      "           4       1.00      0.12      0.22         8\n",
      "           5       0.65      0.74      0.69       169\n",
      "           6       0.52      0.60      0.56       158\n",
      "           7       0.61      0.32      0.42        69\n",
      "           8       0.00      0.00      0.00         6\n",
      "\n",
      "    accuracy                           0.59       412\n",
      "   macro avg       0.46      0.30      0.32       412\n",
      "weighted avg       0.59      0.59      0.57       412\n",
      "\n"
     ]
    }
   ],
   "source": [
    "print(classification_report(y_val,y_pred))"
   ]
  },
  {
   "cell_type": "code",
   "execution_count": 22,
   "metadata": {},
   "outputs": [
    {
     "name": "stdout",
     "output_type": "stream",
     "text": [
      "              precision    recall  f1-score   support\n",
      "\n",
      "           3       0.00      0.00      0.00         2\n",
      "           4       1.00      0.12      0.22         8\n",
      "           5       0.65      0.73      0.69       169\n",
      "           6       0.52      0.59      0.56       158\n",
      "           7       0.57      0.35      0.43        69\n",
      "           8       0.00      0.00      0.00         6\n",
      "\n",
      "    accuracy                           0.59       412\n",
      "   macro avg       0.46      0.30      0.32       412\n",
      "weighted avg       0.58      0.59      0.57       412\n",
      "\n"
     ]
    }
   ],
   "source": [
    "print(classification_report(y_val,y_pred_2))"
   ]
  },
  {
   "cell_type": "code",
   "execution_count": null,
   "metadata": {},
   "outputs": [],
   "source": []
  }
 ],
 "metadata": {
  "kernelspec": {
   "display_name": "dev",
   "language": "python",
   "name": "python3"
  },
  "language_info": {
   "codemirror_mode": {
    "name": "ipython",
    "version": 3
   },
   "file_extension": ".py",
   "mimetype": "text/x-python",
   "name": "python",
   "nbconvert_exporter": "python",
   "pygments_lexer": "ipython3",
   "version": "3.10.11"
  },
  "orig_nbformat": 4
 },
 "nbformat": 4,
 "nbformat_minor": 2
}
