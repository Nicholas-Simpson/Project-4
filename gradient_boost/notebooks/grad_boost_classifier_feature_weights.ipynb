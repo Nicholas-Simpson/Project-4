{
 "cells": [
  {
   "cell_type": "markdown",
   "metadata": {},
   "source": [
    "# Feature Weight of Gradient Boosting Classifier Models\n",
    "---\n",
    "Taking the trends from the straify included methods, the best parameters from the grid search will be ranto determin the weights the models placed on each of the features.\n",
    "* Inspection of the feature weights could reavel the features that are driving the model\n",
    "* Features with the highest/most influencial weights could be related to wine compentents that are important to consumers in in addition to winemakers"
   ]
  },
  {
   "cell_type": "code",
   "execution_count": 1,
   "metadata": {},
   "outputs": [],
   "source": [
    "import os\n",
    "import pandas as pd\n",
    "import matplotlib.pyplot as plt\n",
    "from matplotlib.gridspec import GridSpec\n",
    "from sklearn.model_selection import train_test_split, GridSearchCV\n",
    "from sklearn.model_selection import StratifiedKFold\n",
    "from sklearn.ensemble import GradientBoostingClassifier\n",
    "from sklearn.metrics import accuracy_score, f1_score, precision_score, recall_score, classification_report\n",
    "from sklearn.metrics import ConfusionMatrixDisplay, cohen_kappa_score\n",
    "\n",
    "import time\n",
    "\n",
    "from warnings import filterwarnings\n",
    "filterwarnings('ignore')"
   ]
  },
  {
   "cell_type": "code",
   "execution_count": 2,
   "metadata": {},
   "outputs": [],
   "source": [
    "# The 'ID' feature is already dropped from cleaning notebook\n",
    "\n",
    "# Open all source files as a pd dataframe\n",
    "# This dataset will be used to train the gradient boosted model\n",
    "orig_train = pd.read_csv('https://project4-wine-quality-2023.s3.us-west-2.amazonaws.com/train.csv')\n",
    "\n",
    "#This dataset will be used to evaluate again the Kaggle compitition entry submission\n",
    "orig_test = pd.read_csv('https://project4-wine-quality-2023.s3.us-west-2.amazonaws.com/test.csv')\n",
    "\n",
    "# Addition datasets to explore the GradBoost model on actual wine data\n",
    "red_data = pd.read_csv('https://raw.githubusercontent.com/Nicholas-Simpson/Project-4/main/gradient_boost/cleaned_data/red_white_data_noID.csv')\n",
    "white_data = pd.read_csv('https://raw.githubusercontent.com/Nicholas-Simpson/Project-4/main/gradient_boost/cleaned_data/white_data_noID.csv')\n",
    "red_white_data = pd.read_csv('https://raw.githubusercontent.com/Nicholas-Simpson/Project-4/main/gradient_boost/cleaned_data/red_white_data_noID.csv')\n",
    "trainable_data = pd.read_csv('https://raw.githubusercontent.com/Nicholas-Simpson/Project-4/main/gradient_boost/cleaned_data/trainable_data_noID.csv')\n",
    "\n",
    "# Drop 'ID' columns\n",
    "orig_test = orig_test.drop(columns='Id')\n",
    "orig_train = orig_train.drop(columns='Id')\n",
    "\n",
    "# Create a place to save any generated files\n",
    "gb_txt_output_path = os.path.join('../grad boost output','classification reports')\n",
    "gb_png_output_path = os.path.join('../grad boost output','feature weight plots')\n",
    "os.makedirs(gb_txt_output_path, exist_ok = True)\n",
    "os.makedirs( gb_png_output_path, exist_ok = True)"
   ]
  },
  {
   "cell_type": "code",
   "execution_count": 3,
   "metadata": {},
   "outputs": [],
   "source": [
    "def split(dataset):\n",
    "\n",
    "    # Split the data into training and testing sets\n",
    "    X_train = dataset.drop('quality', axis=1)\n",
    "    y_train = dataset['quality'].copy()\n",
    "    quality_rating = list(y_train)\n",
    "    X_train, X_val, y_train, y_val = train_test_split(X_train, \n",
    "                                                       y_train, \n",
    "                                                       stratify= quality_rating,\n",
    "                                                       test_size = 0.2, \n",
    "                                                       random_state = 42) #because it is the answer :)\n",
    "    return X_train, X_val, y_train, y_val"
   ]
  },
  {
   "cell_type": "code",
   "execution_count": 4,
   "metadata": {},
   "outputs": [],
   "source": [
    "def stratify_split(dataset):\n",
    "\n",
    "    # Split the data into training and testing sets\n",
    "    X_train = dataset.drop('quality', axis=1)\n",
    "    y_train = dataset['quality'].copy()\n",
    "    quality_rating = list(y_train)\n",
    "    X_train, X_val, y_train, y_val = train_test_split(X_train, \n",
    "                                                      y_train, \n",
    "                                                      stratify= quality_rating,\n",
    "                                                      test_size = 0.2, \n",
    "                                                      random_state = 42) #because it is the answer :)\n",
    "    return X_train, X_val, y_train, y_val"
   ]
  },
  {
   "cell_type": "code",
   "execution_count": 5,
   "metadata": {},
   "outputs": [],
   "source": [
    "X_train_orig, X_val_orig, y_train_orig, y_val_orig = stratify_split(orig_train)"
   ]
  },
  {
   "cell_type": "code",
   "execution_count": 24,
   "metadata": {},
   "outputs": [
    {
     "name": "stdout",
     "output_type": "stream",
     "text": [
      "Fitting 5 folds for each of 1 candidates, totalling 5 fits\n",
      "[CV 1/5] END learning_rate=0.05, max_depth=2, n_estimators=30;, score=0.587 total time=   0.4s\n",
      "[CV 2/5] END learning_rate=0.05, max_depth=2, n_estimators=30;, score=0.562 total time=   0.5s\n",
      "[CV 3/5] END learning_rate=0.05, max_depth=2, n_estimators=30;, score=0.616 total time=   0.4s\n",
      "[CV 4/5] END learning_rate=0.05, max_depth=2, n_estimators=30;, score=0.528 total time=   0.4s\n",
      "[CV 5/5] END learning_rate=0.05, max_depth=2, n_estimators=30;, score=0.591 total time=   0.4s\n",
      "Time to complete model: 2.7072\n"
     ]
    }
   ],
   "source": [
    "n_estimators = 30,\n",
    "learning_rate = 0.05,\n",
    "max_depth = 2\n",
    "\n",
    "model = Grad"
   ]
  },
  {
   "cell_type": "code",
   "execution_count": 27,
   "metadata": {},
   "outputs": [
    {
     "data": {
      "text/html": [
       "<div>\n",
       "<style scoped>\n",
       "    .dataframe tbody tr th:only-of-type {\n",
       "        vertical-align: middle;\n",
       "    }\n",
       "\n",
       "    .dataframe tbody tr th {\n",
       "        vertical-align: top;\n",
       "    }\n",
       "\n",
       "    .dataframe thead th {\n",
       "        text-align: right;\n",
       "    }\n",
       "</style>\n",
       "<table border=\"1\" class=\"dataframe\">\n",
       "  <thead>\n",
       "    <tr style=\"text-align: right;\">\n",
       "      <th></th>\n",
       "      <th>mean_fit_time</th>\n",
       "      <th>std_fit_time</th>\n",
       "      <th>mean_score_time</th>\n",
       "      <th>std_score_time</th>\n",
       "      <th>param_learning_rate</th>\n",
       "      <th>param_max_depth</th>\n",
       "      <th>param_n_estimators</th>\n",
       "      <th>params</th>\n",
       "      <th>split0_test_score</th>\n",
       "      <th>split1_test_score</th>\n",
       "      <th>split2_test_score</th>\n",
       "      <th>split3_test_score</th>\n",
       "      <th>split4_test_score</th>\n",
       "      <th>mean_test_score</th>\n",
       "      <th>std_test_score</th>\n",
       "      <th>rank_test_score</th>\n",
       "    </tr>\n",
       "  </thead>\n",
       "  <tbody>\n",
       "    <tr>\n",
       "      <th>0</th>\n",
       "      <td>0.437925</td>\n",
       "      <td>0.019046</td>\n",
       "      <td>0.00312</td>\n",
       "      <td>0.000423</td>\n",
       "      <td>0.05</td>\n",
       "      <td>2</td>\n",
       "      <td>30</td>\n",
       "      <td>{'learning_rate': 0.05, 'max_depth': 2, 'n_est...</td>\n",
       "      <td>0.587379</td>\n",
       "      <td>0.562044</td>\n",
       "      <td>0.615572</td>\n",
       "      <td>0.527981</td>\n",
       "      <td>0.591241</td>\n",
       "      <td>0.576843</td>\n",
       "      <td>0.029748</td>\n",
       "      <td>1</td>\n",
       "    </tr>\n",
       "  </tbody>\n",
       "</table>\n",
       "</div>"
      ],
      "text/plain": [
       "   mean_fit_time  std_fit_time  mean_score_time  std_score_time  \\\n",
       "0       0.437925      0.019046          0.00312        0.000423   \n",
       "\n",
       "  param_learning_rate param_max_depth param_n_estimators  \\\n",
       "0                0.05               2                 30   \n",
       "\n",
       "                                              params  split0_test_score  \\\n",
       "0  {'learning_rate': 0.05, 'max_depth': 2, 'n_est...           0.587379   \n",
       "\n",
       "   split1_test_score  split2_test_score  split3_test_score  split4_test_score  \\\n",
       "0           0.562044           0.615572           0.527981           0.591241   \n",
       "\n",
       "   mean_test_score  std_test_score  rank_test_score  \n",
       "0         0.576843        0.029748                1  "
      ]
     },
     "execution_count": 27,
     "metadata": {},
     "output_type": "execute_result"
    }
   ],
   "source": [
    "cv_results = pd.DataFrame(cv_results)\n",
    "cv_results"
   ]
  },
  {
   "cell_type": "code",
   "execution_count": 28,
   "metadata": {},
   "outputs": [],
   "source": [
    "model "
   ]
  },
  {
   "cell_type": "code",
   "execution_count": null,
   "metadata": {},
   "outputs": [],
   "source": []
  }
 ],
 "metadata": {
  "kernelspec": {
   "display_name": "dev",
   "language": "python",
   "name": "python3"
  },
  "language_info": {
   "codemirror_mode": {
    "name": "ipython",
    "version": 3
   },
   "file_extension": ".py",
   "mimetype": "text/x-python",
   "name": "python",
   "nbconvert_exporter": "python",
   "pygments_lexer": "ipython3",
   "version": "3.10.11"
  },
  "orig_nbformat": 4
 },
 "nbformat": 4,
 "nbformat_minor": 2
}
